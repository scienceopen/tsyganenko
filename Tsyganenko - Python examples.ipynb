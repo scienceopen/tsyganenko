{
 "cells": [
  {
   "cell_type": "markdown",
   "metadata": {},
   "source": [
    "###IRI - Tsyganenko (Geopack and T96)"
   ]
  },
  {
   "cell_type": "code",
   "execution_count": 1,
   "metadata": {
    "collapsed": false
   },
   "outputs": [
    {
     "ename": "ImportError",
     "evalue": "No module named 'tsygFort'",
     "output_type": "error",
     "traceback": [
      "\u001b[1;31m---------------------------------------------------------------------------\u001b[0m",
      "\u001b[1;31mImportError\u001b[0m                               Traceback (most recent call last)",
      "\u001b[1;32m<ipython-input-1-de7f712c972b>\u001b[0m in \u001b[0;36m<module>\u001b[1;34m()\u001b[0m\n\u001b[0;32m      1\u001b[0m \u001b[0mget_ipython\u001b[0m\u001b[1;33m(\u001b[0m\u001b[1;33m)\u001b[0m\u001b[1;33m.\u001b[0m\u001b[0mmagic\u001b[0m\u001b[1;33m(\u001b[0m\u001b[1;34m'matplotlib inline'\u001b[0m\u001b[1;33m)\u001b[0m\u001b[1;33m\u001b[0m\u001b[0m\n\u001b[0;32m      2\u001b[0m \u001b[1;32mimport\u001b[0m \u001b[0mnumpy\u001b[0m \u001b[1;32mas\u001b[0m \u001b[0mnp\u001b[0m\u001b[1;33m\u001b[0m\u001b[0m\n\u001b[1;32m----> 3\u001b[1;33m \u001b[1;32mimport\u001b[0m \u001b[0mtsyganenko\u001b[0m\u001b[1;33m\u001b[0m\u001b[0m\n\u001b[0m",
      "\u001b[1;32mc:\\code\\tsyganenko\\tsyganenko\\__init__.py\u001b[0m in \u001b[0;36m<module>\u001b[1;34m()\u001b[0m\n\u001b[0;32m     18\u001b[0m \"\"\"\n\u001b[0;32m     19\u001b[0m \u001b[1;33m\u001b[0m\u001b[0m\n\u001b[1;32m---> 20\u001b[1;33m \u001b[1;32mimport\u001b[0m \u001b[0mtsygFort\u001b[0m\u001b[1;33m\u001b[0m\u001b[0m\n\u001b[0m\u001b[0;32m     21\u001b[0m \u001b[1;33m\u001b[0m\u001b[0m\n\u001b[0;32m     22\u001b[0m \u001b[1;32mclass\u001b[0m \u001b[0mtsygTrace\u001b[0m\u001b[1;33m(\u001b[0m\u001b[0mobject\u001b[0m\u001b[1;33m)\u001b[0m\u001b[1;33m:\u001b[0m\u001b[1;33m\u001b[0m\u001b[0m\n",
      "\u001b[1;31mImportError\u001b[0m: No module named 'tsygFort'"
     ]
    }
   ],
   "source": [
    "%matplotlib inline\n",
    "import numpy as np\n",
    "import tsyganenko"
   ]
  },
  {
   "cell_type": "code",
   "execution_count": null,
   "metadata": {
    "collapsed": false
   },
   "outputs": [],
   "source": [
    "lats = range(10, 90, 10)\n",
    "lons = zeros(len(lats))\n",
    "rhos = 6372.*ones(len(lats))\n",
    "trace = tsyganenko.tsygTrace(lats, lons, rhos)\n",
    "print trace\n",
    "ax = trace.plot()"
   ]
  },
  {
   "cell_type": "markdown",
   "metadata": {},
   "source": [
    "- **The \"Plumbing\" way**"
   ]
  },
  {
   "cell_type": "code",
   "execution_count": null,
   "metadata": {
    "collapsed": false
   },
   "outputs": [],
   "source": [
    "# Inputs\n",
    "# Date and time\n",
    "year = 2000\n",
    "doy = 1\n",
    "hr = 12\n",
    "mn = 0\n",
    "sc = 0\n",
    "# Solar wind speed\n",
    "vxgse = -400.\n",
    "vygse = 0.\n",
    "vzgse = 0.\n",
    "# Execution parameters\n",
    "lmax = 5000\n",
    "rlim = 60. \n",
    "r0 = 1. \n",
    "dsmax = .01\n",
    "err = .000001\n",
    "# Direction of the tracing\n",
    "mapto = 1\n",
    "# Magnetic activity [SW pressure (nPa), Dst, ByIMF, BzIMF]\n",
    "parmod = np.zeros(10)\n",
    "parmod[0:4] = [2, -8, -2, -5]\n",
    "# Start point (rh in Re)\n",
    "lat = 50.\n",
    "lon = 0.\n",
    "rh = 0.\n",
    "\n",
    "# This has to be called first\n",
    "tsyganenko.tsygFort.recalc_08(year,doy,hr,mn,sc,vxgse,vygse,vzgse)\n",
    "\n",
    "# Convert lat,lon to geographic cartesian and then gsw\n",
    "r,theta,phi, xgeo, ygeo, zgeo = tsyganenko.tsygFort.sphcar_08(1., np.radians(90.-lat), np.radians(lon), 0., 0., 0., 1)\n",
    "xgeo,ygeo,zgeo,xgsw,ygsw,zgsw  = tsyganenko.tsygFort.geogsw_08(xgeo, ygeo, zgeo,0,0,0,1)\n",
    "\n",
    "# Trace field line\n",
    "xfgsw,yfgsw,zfgsw,xarr,yarr,zarr,l = tsyganenko.tsygFort.trace_08(xgsw,ygsw,zgsw,mapto,dsmax,err, \n",
    "    rlim,r0,0,parmod,'T96_01','IGRF_GSW_08',lmax) \n",
    "\n",
    "# Convert back to spherical geographic coords\n",
    "xfgeo,yfgeo,zfgeo,xfgsw,yfgsw,zfgsw  = tsyganenko.tsygFort.geogsw_08(0,0,0,xfgsw,yfgsw,zfgsw,-1)\n",
    "gcR, gdcolat, gdlon, xgeo, ygeo, zgeo = tsyganenko.tsygFort.sphcar_08(0., 0., 0., xfgeo, yfgeo, zfgeo, -1)\n",
    "\n",
    "\n",
    "print '** START: {:6.3f}, {:6.3f}, {:6.3f}'.format(lat, lon, 1.)\n",
    "print '** STOP:  {:6.3f}, {:6.3f}, {:6.3f}'.format(90.-np.degrees(gdcolat), np.degrees(gdlon), gcR)"
   ]
  },
  {
   "cell_type": "code",
   "execution_count": null,
   "metadata": {
    "collapsed": false
   },
   "outputs": [],
   "source": [
    "# A quick checking plot\n",
    "from mpl_toolkits.mplot3d import proj3d\n",
    "import numpy as np\n",
    "fig = plt.figure(figsize=(10,10))\n",
    "ax = fig.add_subplot(111, projection='3d')\n",
    "# Plot coordinate system\n",
    "ax.plot3D([0,1],[0,0],[0,0],'b')\n",
    "ax.plot3D([0,0],[0,1],[0,0],'g')\n",
    "ax.plot3D([0,0],[0,0],[0,1],'r')\n",
    "\n",
    "# First plot a nice sphere for the Earth\n",
    "u = np.linspace(0, 2 * np.pi, 179)\n",
    "v = np.linspace(0, np.pi, 179)\n",
    "tx = np.outer(np.cos(u), np.sin(v))\n",
    "ty = np.outer(np.sin(u), np.sin(v))\n",
    "tz = np.outer(np.ones(np.size(u)), np.cos(v))\n",
    "ax.plot_surface(tx,ty,tz,rstride=10, cstride=10, color='grey', alpha=.5, zorder=2, linewidth=0.5)\n",
    "\n",
    "# Then plot the traced field line\n",
    "latarr = [10.,20.,30.,40.,50.,60.,70.,80.]\n",
    "lonarr = [0., 180.]\n",
    "rh = 0.\n",
    "for lon in lonarr:\n",
    "    for lat in latarr:\n",
    "        r,theta,phi, xgeo, ygeo, zgeo = tsyganenko.tsygFort.sphcar_08(1., np.radians(90.-lat), np.radians(lon), 0., 0., 0., 1)\n",
    "        xgeo,ygeo,zgeo,xgsw,ygsw,zgsw  = tsyganenko.tsygFort.geogsw_08(xgeo, ygeo, zgeo,0,0,0,1)\n",
    "        xfgsw,yfgsw,zfgsw,xarr,yarr,zarr,l = tsyganenko.tsygFort.trace_08(xgsw,ygsw,zgsw,mapto,dsmax,err, \n",
    "            rlim,r0,0,parmod,'T96_01','IGRF_GSW_08',lmax) \n",
    "        for i in range(l):\n",
    "            xgeo,ygeo,zgeo,dum,dum,dum  = tsyganenko.tsygFort.geogsw_08(0,0,0,xarr[i],yarr[i],zarr[i],-1)\n",
    "            xarr[i],yarr[i],zarr[i] = xgeo,ygeo,zgeo\n",
    "        ax.plot3D(xarr[0:l],yarr[0:l],zarr[0:l], zorder=3, linewidth=2, color='y')\n",
    "\n",
    "# Set plot limits\n",
    "lim=4\n",
    "ax.set_xlim3d([-lim,lim])\n",
    "ax.set_ylim3d([-lim,lim])\n",
    "ax.set_zlim3d([-lim,lim])"
   ]
  },
  {
   "cell_type": "code",
   "execution_count": null,
   "metadata": {
    "collapsed": false
   },
   "outputs": [],
   "source": []
  }
 ],
 "metadata": {
  "kernelspec": {
   "display_name": "Python 3",
   "language": "python",
   "name": "python3"
  },
  "language_info": {
   "codemirror_mode": {
    "name": "ipython",
    "version": 3
   },
   "file_extension": ".py",
   "mimetype": "text/x-python",
   "name": "python",
   "nbconvert_exporter": "python",
   "pygments_lexer": "ipython3",
   "version": "3.5.1"
  }
 },
 "nbformat": 4,
 "nbformat_minor": 0
}
