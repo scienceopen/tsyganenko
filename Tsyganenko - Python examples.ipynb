version https://git-lfs.github.com/spec/v1
oid sha256:3debca6db451e753bbb41e9435acfdb17dd02bd58a4510029463704900b8ecb1
size 115275
